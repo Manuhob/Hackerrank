{
 "cells": [
  {
   "cell_type": "markdown",
   "metadata": {},
   "source": [
    "# Non-Divisible\n",
    "\n",
    "Given an array of distinct integers, print the size of a maximal subset of where the sum of any numbers in is not evenly divisible by ."
   ]
  },
  {
   "cell_type": "code",
   "execution_count": 116,
   "metadata": {},
   "outputs": [
    {
     "name": "stdout",
     "output_type": "stream",
     "text": [
      "2\n",
      "61197933 56459859 319018589 271720536 358582070 849720202 481165658 675266245 541667092 615618805 129027583 755570852 437001718 86763458 791564527 163795318 981341013 516958303 592324531 611671866 157795445 718701842 773810960 72800260 281252802 404319361 757224413 682600363 606641861 986674925 176725535 256166138 827035972 124896145 37969090 136814243 274957936 980688849 293456190 141209943 346065260 550594766 132159011 491368651 3772767 131852400 633124868 148168785 339205816 705527969 551343090 824338597 241776176 286091680 919941899 728704934 37548669 513249437 888944501 239457900 977532594 140391002 260004333 911069927 586821751 113740158 370372870 97014913 28011421 489017248 492953261 73530695 27277034 570013262 81306939 519086053 993680429 599609256 639477062 677313848 950497430 672417749 266140123 601572332 273157042 777834449 123586826\n",
      "2\n"
     ]
    }
   ],
   "source": [
    "#!/bin/python3\n",
    "\n",
    "import math\n",
    "import os\n",
    "import random\n",
    "import re\n",
    "import sys\n",
    "\n",
    "#\n",
    "# Complete the 'nonDivisibleSubset' function below.\n",
    "#\n",
    "# The function is expected to return an INTEGER.\n",
    "# The function accepts following parameters:\n",
    "#  1. INTEGER k\n",
    "#  2. INTEGER_ARRAY s\n",
    "#\n",
    "\n",
    "\n",
    "def nonDivisibleSubset(k, s):\n",
    "    if k ==1: return 1 #first exception\n",
    "    res = [x%k for x in s] #array of residues mod k\n",
    "    recurrence = dict([(x,0) for x in range(k)]) #dict for saving recurrence of residues in array s\n",
    "    for i in range(len(res)):\n",
    "        recurrence[res[i]] += 1\n",
    "    result = 0\n",
    "    if recurrence[0]>0: result += 1 #Add one multiple of k, if exists\n",
    "\n",
    "    if k <=3:#Two more special cases\n",
    "        if k == 2 and recurrence[1]: result += 1\n",
    "        else: result += max(recurrence[1],recurrence[2])\n",
    "        return result\n",
    "    \n",
    "    for x in range(1,k//2): result += max(recurrence[x],recurrence[k-x])\n",
    "        \n",
    "    if k%2 == 0 and recurrence[k/2] > 0: result += 1\n",
    "    else: result += max(recurrence[k//2],recurrence[k - k//2])\n",
    "\n",
    "    return result\n",
    "\n",
    "\n",
    "k = int(input())\n",
    "\n",
    "s = list(map(int, input().rstrip().split()))\n",
    "\n",
    "print(nonDivisibleSubset(k, s))\n",
    "\n",
    "#k = 9\n",
    "#s = 61197933 56459859 319018589 271720536 358582070 849720202 481165658 675266245 541667092 615618805 129027583 755570852 437001718 86763458 791564527 163795318 981341013 516958303 592324531 611671866 157795445 718701842 773810960 72800260 281252802 404319361 757224413 682600363 606641861 986674925 176725535 256166138 827035972 124896145 37969090 136814243 274957936 980688849 293456190 141209943 346065260 550594766 132159011 491368651 3772767 131852400 633124868 148168785 339205816 705527969 551343090 824338597 241776176 286091680 919941899 728704934 37548669 513249437 888944501 239457900 977532594 140391002 260004333 911069927 586821751 113740158 370372870 97014913 28011421 489017248 492953261 73530695 27277034 570013262 81306939 519086053 993680429 599609256 639477062 677313848 950497430 672417749 266140123 601572332 273157042 777834449 123586826\n",
    "\n",
    "#expected value = 50\n",
    "\n"
   ]
  },
  {
   "cell_type": "markdown",
   "metadata": {},
   "source": [
    "# Magic Squares"
   ]
  },
  {
   "cell_type": "code",
   "execution_count": null,
   "metadata": {},
   "outputs": [],
   "source": [
    "# Computing the minimal cost of transforming a given matrix into a magic square\n",
    "\n",
    "def rotating_matrix(m):\n",
    "    rotated = []\n",
    "    for i in range(3):\n",
    "        rotated.append([m[j][2-i] for j in range(3)])\n",
    "    return rotated\n",
    "\n",
    "\n",
    "def reflecting_matrix(m):\n",
    "    reflected = []\n",
    "    for i in range(3):\n",
    "        reflected.append([m[j][i] for j in range(3)])\n",
    "    return reflected\n",
    "\n",
    "sq = [[4,9,2],[3,5,7],[8,1,6]]\n",
    "magic_squares=[]\n",
    "for _ in range(2):\n",
    "    for _ in range(4):\n",
    "        magic_squares.append(sq)\n",
    "        sq = rotating_matrix(sq)\n",
    "    sq = reflecting_matrix(sq)\n",
    "\n",
    "def transformation_cost(a,b):\n",
    "    cost = 0\n",
    "    for i in range(3):\n",
    "        for j in range(3):\n",
    "            cost += abs(a[i][j] - b[i][j])\n",
    "    return cost\n",
    "    \n",
    "def formingMagicSquare(s):\n",
    "    # Write your code here\n",
    "    minimumcost = 100\n",
    "    for i in range(8):\n",
    "        if minimumcost > transformation_cost(s,magic_squares[i]):\n",
    "            minimumcost = transformation_cost(s,magic_squares[i])\n",
    "    return minimumcost\n",
    "\n",
    "s = []\n",
    "\n",
    "for _ in range(3):\n",
    "    s.append(list(map(int, input().rstrip().split())))\n",
    "result = formingMagicSquare(s)\n",
    "print(str(result))"
   ]
  },
  {
   "cell_type": "markdown",
   "metadata": {},
   "source": [
    "# Dense ranking"
   ]
  },
  {
   "cell_type": "code",
   "execution_count": 1,
   "metadata": {},
   "outputs": [
    {
     "name": "stdout",
     "output_type": "stream",
     "text": [
      "[6, 5, 4, 2, 1]\n"
     ]
    },
    {
     "ename": "NameError",
     "evalue": "name 'scores' is not defined",
     "output_type": "error",
     "traceback": [
      "\u001b[0;31m---------------------------------------------------------------------------\u001b[0m",
      "\u001b[0;31mNameError\u001b[0m                                 Traceback (most recent call last)",
      "\u001b[0;32m<ipython-input-1-dea274f82c35>\u001b[0m in \u001b[0;36m<module>\u001b[0;34m()\u001b[0m\n\u001b[1;32m     43\u001b[0m     \u001b[0;32mreturn\u001b[0m \u001b[0mresultado\u001b[0m\u001b[0;34m\u001b[0m\u001b[0;34m\u001b[0m\u001b[0m\n\u001b[1;32m     44\u001b[0m \u001b[0;34m\u001b[0m\u001b[0m\n\u001b[0;32m---> 45\u001b[0;31m \u001b[0mprint\u001b[0m\u001b[0;34m(\u001b[0m\u001b[0mclimbingLeaderboard\u001b[0m\u001b[0;34m(\u001b[0m\u001b[0mscores\u001b[0m\u001b[0;34m,\u001b[0m\u001b[0mplayer\u001b[0m\u001b[0;34m)\u001b[0m\u001b[0;34m)\u001b[0m\u001b[0;34m\u001b[0m\u001b[0;34m\u001b[0m\u001b[0m\n\u001b[0m",
      "\u001b[0;31mNameError\u001b[0m: name 'scores' is not defined"
     ]
    }
   ],
   "source": [
    "#Partial solucion of mine, when len(player) < len(ranked). This is not optimized.\n",
    "def climbingLeaderboard(ranked, player):\n",
    "    ranks =sorted(list(set(ranked)), reverse=True) #ranks without repetition.\n",
    "    resultado = []\n",
    "    i = 0\n",
    "    while len(ranks) > 0 and i < len(player):\n",
    "        onboard = False\n",
    "        for j in range(len(ranks)):\n",
    "            if j == 0 and player[i] > ranks[0]:\n",
    "                resultado.append(1)\n",
    "                onboard = True\n",
    "                break\n",
    "            elif player[i] >= ranks[j] and player[i] < ranks[j-1]:\n",
    "                ranks = ranks[:j]\n",
    "                resultado.append(j+1)\n",
    "                onboard = True\n",
    "                break\n",
    "        if not onboard:\n",
    "            resultado.append(len(ranks)+1)\n",
    "        i +=1\n",
    "    return resultado\n",
    "\n",
    "board = [100, 90, 90, 80, 75, 60]\n",
    "player = [50, 65, 77, 90, 102]\n",
    "\n",
    "print(climbingLeaderboard(board,player))\n",
    "\n",
    "\n",
    "\n",
    "#Optimized solution proposed by Yashwant Parihar at:\n",
    "#https://thecscience.com/hackerrank-climbing-the-leaderboard-solution.html\n",
    "def climbingLeaderboard(scores, player):\n",
    "    scores = list(set(scores))\n",
    "    scores.sort() #sorted in ascending order, without repetition\n",
    "    rank = len(scores)+1\n",
    "    pos = 0\n",
    "    resultado = []\n",
    "    for x in player:\n",
    "        while pos != len(scores) and x >= scores[pos]:\n",
    "            rank -= 1\n",
    "            pos += 1\n",
    "        resultado.append(rank)\n",
    "    return resultado\n",
    "\n",
    "print(climbingLeaderboard(scores,player))"
   ]
  },
  {
   "cell_type": "markdown",
   "metadata": {},
   "source": [
    "# Picking Numbers?"
   ]
  },
  {
   "cell_type": "code",
   "execution_count": 2,
   "metadata": {},
   "outputs": [
    {
     "name": "stdout",
     "output_type": "stream",
     "text": [
      "\n"
     ]
    },
    {
     "ename": "ValueError",
     "evalue": "invalid literal for int() with base 10: ''",
     "output_type": "error",
     "traceback": [
      "\u001b[0;31m---------------------------------------------------------------------------\u001b[0m",
      "\u001b[0;31mValueError\u001b[0m                                Traceback (most recent call last)",
      "\u001b[0;32m<ipython-input-2-8661f12df7b4>\u001b[0m in \u001b[0;36m<module>\u001b[0;34m()\u001b[0m\n\u001b[1;32m     20\u001b[0m \u001b[0;34m\u001b[0m\u001b[0m\n\u001b[1;32m     21\u001b[0m \u001b[0;34m\u001b[0m\u001b[0m\n\u001b[0;32m---> 22\u001b[0;31m \u001b[0ma\u001b[0m \u001b[0;34m=\u001b[0m \u001b[0;34m[\u001b[0m\u001b[0mint\u001b[0m\u001b[0;34m(\u001b[0m\u001b[0ma_temp\u001b[0m\u001b[0;34m)\u001b[0m \u001b[0;32mfor\u001b[0m \u001b[0ma_temp\u001b[0m \u001b[0;32min\u001b[0m \u001b[0minput\u001b[0m\u001b[0;34m(\u001b[0m\u001b[0;34m)\u001b[0m\u001b[0;34m.\u001b[0m\u001b[0mstrip\u001b[0m\u001b[0;34m(\u001b[0m\u001b[0;34m)\u001b[0m\u001b[0;34m.\u001b[0m\u001b[0msplit\u001b[0m\u001b[0;34m(\u001b[0m\u001b[0;34m' '\u001b[0m\u001b[0;34m)\u001b[0m\u001b[0;34m]\u001b[0m\u001b[0;34m\u001b[0m\u001b[0;34m\u001b[0m\u001b[0m\n\u001b[0m\u001b[1;32m     23\u001b[0m \u001b[0mprint\u001b[0m\u001b[0;34m(\u001b[0m\u001b[0mpickingNumbers\u001b[0m\u001b[0;34m(\u001b[0m\u001b[0ma\u001b[0m\u001b[0;34m)\u001b[0m\u001b[0;34m)\u001b[0m\u001b[0;34m\u001b[0m\u001b[0;34m\u001b[0m\u001b[0m\n",
      "\u001b[0;32m<ipython-input-2-8661f12df7b4>\u001b[0m in \u001b[0;36m<listcomp>\u001b[0;34m(.0)\u001b[0m\n\u001b[1;32m     20\u001b[0m \u001b[0;34m\u001b[0m\u001b[0m\n\u001b[1;32m     21\u001b[0m \u001b[0;34m\u001b[0m\u001b[0m\n\u001b[0;32m---> 22\u001b[0;31m \u001b[0ma\u001b[0m \u001b[0;34m=\u001b[0m \u001b[0;34m[\u001b[0m\u001b[0mint\u001b[0m\u001b[0;34m(\u001b[0m\u001b[0ma_temp\u001b[0m\u001b[0;34m)\u001b[0m \u001b[0;32mfor\u001b[0m \u001b[0ma_temp\u001b[0m \u001b[0;32min\u001b[0m \u001b[0minput\u001b[0m\u001b[0;34m(\u001b[0m\u001b[0;34m)\u001b[0m\u001b[0;34m.\u001b[0m\u001b[0mstrip\u001b[0m\u001b[0;34m(\u001b[0m\u001b[0;34m)\u001b[0m\u001b[0;34m.\u001b[0m\u001b[0msplit\u001b[0m\u001b[0;34m(\u001b[0m\u001b[0;34m' '\u001b[0m\u001b[0;34m)\u001b[0m\u001b[0;34m]\u001b[0m\u001b[0;34m\u001b[0m\u001b[0;34m\u001b[0m\u001b[0m\n\u001b[0m\u001b[1;32m     23\u001b[0m \u001b[0mprint\u001b[0m\u001b[0;34m(\u001b[0m\u001b[0mpickingNumbers\u001b[0m\u001b[0;34m(\u001b[0m\u001b[0ma\u001b[0m\u001b[0;34m)\u001b[0m\u001b[0;34m)\u001b[0m\u001b[0;34m\u001b[0m\u001b[0;34m\u001b[0m\u001b[0m\n",
      "\u001b[0;31mValueError\u001b[0m: invalid literal for int() with base 10: ''"
     ]
    }
   ],
   "source": [
    "#Encontrar la longitud del máximo sub arreglo tal que |a-b| <=1, para todo a,b en el subarreglo.\n",
    "\n",
    "def pickingNumbers(a):\n",
    "    a = sorted(a)\n",
    "    b = sorted(list(set(a)))\n",
    "    index = 1\n",
    "    maxim = 1\n",
    "    for pivot in range(len(a)-1):\n",
    "        localmax = 1\n",
    "        for j in range(pivot+1, len(a)):\n",
    "            if abs(a[j]-a[pivot]) <=1:\n",
    "                localmax += 1\n",
    "                if localmax > maxim:\n",
    "                    maxim = localmax\n",
    "            else:\n",
    "                if localmax > maxim:\n",
    "                    maxim = localmax\n",
    "                break\n",
    "    return maxim\n",
    "\n",
    "\n",
    "a = [int(a_temp) for a_temp in input().strip().split(' ')]\n",
    "print(pickingNumbers(a))"
   ]
  },
  {
   "cell_type": "markdown",
   "metadata": {},
   "source": [
    "# Extra long factorials"
   ]
  },
  {
   "cell_type": "code",
   "execution_count": 3,
   "metadata": {},
   "outputs": [],
   "source": [
    "#Lo hacemos de manera iterativa, no recursiva por si excedemos el limite de recursion que en python probablemente\n",
    "#sea 1000\n",
    "def extraLongFactorials(n):\n",
    "    if n <= 1: print('1')\n",
    "    else:\n",
    "        j,facto = 1,1\n",
    "        while j <= n:\n",
    "            facto *= j\n",
    "            j += 1\n",
    "        print(facto)"
   ]
  },
  {
   "cell_type": "markdown",
   "metadata": {},
   "source": [
    "# Queen's Attack II:\n",
    "\n",
    "You will be given a square chess board with one queen and a number of obstacles placed on it. Determine how many squares the queen can attack. "
   ]
  },
  {
   "cell_type": "code",
   "execution_count": 5,
   "metadata": {},
   "outputs": [
    {
     "name": "stdout",
     "output_type": "stream",
     "text": [
      "100000 0\n",
      "4187 5068\n"
     ]
    },
    {
     "data": {
      "text/plain": [
       "308369"
      ]
     },
     "execution_count": 5,
     "metadata": {},
     "output_type": "execute_result"
    }
   ],
   "source": [
    "def queensAttack(n, k, r_q, c_q, obstacles):\n",
    "    #Amount of squares accesible by queen (without obstacles):\n",
    "    right= n - c_q\n",
    "    left = c_q - 1\n",
    "    up = n - r_q\n",
    "    down = r_q -1\n",
    "    left_down = min(r_q, c_q) - 1\n",
    "    right_up = n - abs(r_q - c_q) - min(r_q, c_q)\n",
    "    left_up = min(n - r_q, c_q - 1)\n",
    "    right_down = min(n - c_q, r_q -1)\n",
    "    \n",
    "    #reducing the possibilities\n",
    "    for obst in obstacles:\n",
    "        r,c = obst[0], obst[1]\n",
    "        #restricting horizontal moves\n",
    "        if r == r_q:\n",
    "            if c < c_q and c_q - c - 1 < left:\n",
    "                left = c_q - c - 1\n",
    "            elif c > c_q and c - c_q - 1 < right:\n",
    "                right = c - c_q - 1\n",
    "        #restricting vertical moves\n",
    "        if c == c_q:\n",
    "            if r < r_q and r_q - r - 1 < down:\n",
    "                down = r_q - r - 1\n",
    "            elif r > r_q and r - r_q - 1 < up:\n",
    "                up = r - r_q - 1\n",
    "        #restricting diagonal moves\n",
    "        if (r_q - c_q) == (r-c):\n",
    "            if c < c_q and (min(r_q, c_q) - min(r,c)-1) < left_down:\n",
    "                left_down = min(r_q, c_q) - min(r,c) - 1\n",
    "            elif c > c_q and (min(r,c) - min(r_q,c_q) - 1) < right_up:\n",
    "                right_up = min(r,c) - min(r_q,c_q) - 1\n",
    "        #restricting antidiagonal moves \n",
    "        if (r_q + c_q) == (r + c):\n",
    "            if c < c_q and (min(n - r_q, c_q - 1) - min(n - r, c - 1) - 1) < left_up:\n",
    "                left_up = min(n - r_q, c_q - 1) - min(n - r, c - 1) - 1\n",
    "            elif c > c_q and (min(n - r, c - 1) - min(n - r_q, c_q - 1) - 1) < right_down:\n",
    "                right_down = min(n - r, c - 1) - min(n - r_q, c_q - 1) - 1\n",
    "\n",
    "    horizontal = right + left\n",
    "    vertical = up + down\n",
    "    first_diagonal = right_up + left_down\n",
    "    second_diagonal = right_down + left_up\n",
    "    result = horizontal + vertical + first_diagonal + second_diagonal\n",
    "    return result\n",
    "\n",
    "dimensions = list(map(int, input().rstrip().split()))\n",
    "queenposition = list(map(int, input().rstrip().split()))\n",
    "obstacles = []\n",
    "for _ in range(dimensions[1]):\n",
    "    obstacles.append(list(map(int, input().rstrip().split())))\n",
    "queensAttack(dimensions[0], dimensions[1], queenposition[0], queenposition[0], obstacles)\n",
    "\n",
    "#Test values\n",
    "\n",
    "#Tiempo de solucion:\n",
    "#media hora para pensar en la solución.\n",
    "#Dos horas para hacer las cuentas y escribir una solución óptima."
   ]
  },
  {
   "cell_type": "code",
   "execution_count": null,
   "metadata": {},
   "outputs": [],
   "source": []
  }
 ],
 "metadata": {
  "kernelspec": {
   "display_name": "Python 3",
   "language": "python",
   "name": "python3"
  },
  "language_info": {
   "codemirror_mode": {
    "name": "ipython",
    "version": 3
   },
   "file_extension": ".py",
   "mimetype": "text/x-python",
   "name": "python",
   "nbconvert_exporter": "python",
   "pygments_lexer": "ipython3",
   "version": "3.7.6"
  }
 },
 "nbformat": 4,
 "nbformat_minor": 2
}
